{
 "cells": [
  {
   "cell_type": "markdown",
   "metadata": {},
   "source": [
    "# Resumen"
   ]
  },
  {
   "cell_type": "markdown",
   "metadata": {},
   "source": [
    "### Lineas y sangria (tab)"
   ]
  },
  {
   "cell_type": "code",
   "execution_count": 1,
   "metadata": {},
   "outputs": [
    {
     "name": "stdout",
     "output_type": "stream",
     "text": [
      "Quien eres?\n",
      "Andres\n",
      "Hola  Andres. ¿Cual es la contrasena?\n",
      "clase2018\n",
      "Acceso Concedido\n"
     ]
    }
   ],
   "source": [
    "nombre= ''\n",
    "while True:\n",
    "    print ('Quien eres?')\n",
    "    nombre = input ()\n",
    "    if nombre != 'Andres':\n",
    "        continue\n",
    "    print (\"Hola  Andres. ¿Cual es la contrasena?\")\n",
    "    password = input()\n",
    "    if password == 'clase2018':\n",
    "        break\n",
    "print  ('Acceso Concedido')"
   ]
  },
  {
   "cell_type": "markdown",
   "metadata": {},
   "source": [
    "### Declaraciones en linea multiple"
   ]
  },
  {
   "cell_type": "code",
   "execution_count": 4,
   "metadata": {
    "collapsed": true
   },
   "outputs": [],
   "source": [
    "objeto_1 = 2\n",
    "objeto_2 = 4\n",
    "objeto_3 = 6"
   ]
  },
  {
   "cell_type": "code",
   "execution_count": 5,
   "metadata": {},
   "outputs": [
    {
     "name": "stdout",
     "output_type": "stream",
     "text": [
      "12\n"
     ]
    }
   ],
   "source": [
    "total = objeto_1 + \\\n",
    "        objeto_2 + \\\n",
    "        objeto_3\n",
    "print(total)"
   ]
  },
  {
   "cell_type": "code",
   "execution_count": 7,
   "metadata": {},
   "outputs": [
    {
     "name": "stdout",
     "output_type": "stream",
     "text": [
      "['uno', 'dos', 'Tres']\n"
     ]
    }
   ],
   "source": [
    "numbers = ['uno', 'dos', 'Tres']\n",
    "print(numbers)"
   ]
  },
  {
   "cell_type": "markdown",
   "metadata": {},
   "source": [
    "### Uso de comillas"
   ]
  },
  {
   "cell_type": "code",
   "execution_count": null,
   "metadata": {
    "collapsed": true
   },
   "outputs": [],
   "source": [
    "palabra = 'palabra'\n",
    "enunciado = \"enunciado\"\n",
    "parrafo = \"\"\"Esto es un parrafo. Y esta formado\n",
    "por varias lineas y enunciados.\"\"\""
   ]
  },
  {
   "cell_type": "code",
   "execution_count": null,
   "metadata": {
    "collapsed": true
   },
   "outputs": [],
   "source": [
    "print (palabra)\n",
    "print (enunciado)\n",
    "print (parrafo)"
   ]
  },
  {
   "cell_type": "markdown",
   "metadata": {},
   "source": [
    "### Grupos de multiples declaraciones como paquete"
   ]
  },
  {
   "cell_type": "code",
   "execution_count": 8,
   "metadata": {},
   "outputs": [
    {
     "name": "stdout",
     "output_type": "stream",
     "text": [
      "Quien eres?\n",
      "andres\n",
      "Quien eres?\n",
      "Andres\n",
      "Hola  Andres. ¿Cual es la contrasena?\n",
      "clase2018\n",
      "Acceso Concedido\n"
     ]
    }
   ],
   "source": [
    "nombre= ''\n",
    "while True:\n",
    "    print ('Quien eres?')\n",
    "    nombre = input ()\n",
    "    if nombre != 'Andres':\n",
    "        continue\n",
    "    print (\"Hola  Andres. ¿Cual es la contrasena?\")\n",
    "    password = input()\n",
    "    if password == 'clase2018':\n",
    "        break\n",
    "print  ('Acceso Concedido')"
   ]
  },
  {
   "cell_type": "code",
   "execution_count": null,
   "metadata": {
    "collapsed": true
   },
   "outputs": [],
   "source": []
  }
 ],
 "metadata": {
  "kernelspec": {
   "display_name": "Python 3",
   "language": "python",
   "name": "python3"
  },
  "language_info": {
   "codemirror_mode": {
    "name": "ipython",
    "version": 3
   },
   "file_extension": ".py",
   "mimetype": "text/x-python",
   "name": "python",
   "nbconvert_exporter": "python",
   "pygments_lexer": "ipython3",
   "version": "3.6.3"
  }
 },
 "nbformat": 4,
 "nbformat_minor": 2
}
