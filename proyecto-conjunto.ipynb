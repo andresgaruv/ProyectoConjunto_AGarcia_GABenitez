{
 "cells": [
  {
   "cell_type": "markdown",
   "metadata": {},
   "source": [
    "# <font color = red > Proyecto colaborativo"
   ]
  },
  {
   "cell_type": "markdown",
   "metadata": {},
   "source": [
    "### Estudiantes:\n",
    "##### Andrés García Ruvalcaba\n",
    "##### Gaspar Alejandro Benitez Fregoso"
   ]
  },
  {
   "cell_type": "markdown",
   "metadata": {},
   "source": [
    "## <font color = blue > Expectativas de clase"
   ]
  },
  {
   "cell_type": "markdown",
   "metadata": {},
   "source": [
    "##### Andres:\n",
    "\n",
    "Mas que nada en este curso espero aprender de donde provienen los distintos métodos de simulación, especialmente el montecarlo, además de saberlo utilizar a la perfección sobre todo para preedecir el comportamiento de activos y la valuación de derivados en especial.\n",
    "\n",
    "##### Gaspar:\n",
    "\n",
    "En este curso espero poder obtener aptitudes que pueda usar en mi dia a dia en la futura vida laboral. Tambien poder reafirmar mis conocimientos obtenidos acerca de Python y aprender a usa otras heraamientas como GitHub, GitKraken y Jupyter"
   ]
  },
  {
   "cell_type": "markdown",
   "metadata": {},
   "source": [
    "Utilizando el modelo de Black & Scholes\n",
    ">$$\\frac{\\partial f}{\\partial t} + rS\\frac{\\partial f}{\\partial S} + \\frac{1}{2}\\sigma^2S^2 \\frac{\\partial^2f}{\\partial S^2} = rf$$ "
   ]
  },
  {
   "cell_type": "markdown",
   "metadata": {},
   "source": [
    "S = Precio del Stock\n",
    "\n",
    "r = Interes libre de riesgo\n",
    "\n",
    "σ = Volatilidad\n",
    "\n",
    "t = Tiempo\n",
    "\n",
    "f = Contrato a futruo"
   ]
  },
  {
   "cell_type": "markdown",
   "metadata": {
    "collapsed": true
   },
   "source": [
    "### Utilizando un ejemplo de tablas\n",
    "\n",
    "| Equipo             | JJ    | Puntos |\n",
    "| -------------------|-------|--------|\n",
    "| FC Barcelona       | $20$  | $54$   |\n",
    "| Atletico de Madrid | $20$  | $43$   |\n",
    "| Valencia FC        | $20$  | $40$   |"
   ]
  },
  {
   "cell_type": "markdown",
   "metadata": {},
   "source": [
    "### Llegamos a la conclusion de que este es el mejor perro que hay en internet"
   ]
  },
  {
   "cell_type": "markdown",
   "metadata": {},
   "source": [
    "<img style=\"float: left; margin: 15px 15px 15px 15px;\" src=\"http://i0.kym-cdn.com/entries/icons/original/000/013/564/doge.jpg\" width=\"720\" height=\"200\" />"
   ]
  },
  {
   "cell_type": "markdown",
   "metadata": {
    "collapsed": true
   },
   "source": [
    "# Somos los mejores en esto parcero"
   ]
  },
  {
   "cell_type": "markdown",
   "metadata": {},
   "source": [
    "## Invitame a las luchas papi"
   ]
  },
  {
   "cell_type": "markdown",
   "metadata": {},
   "source": [
    "# Esto lo estoy haciendo desde una rama mijo"
   ]
  },
  {
   "cell_type": "markdown",
   "metadata": {},
   "source": [
    "mas te vale que te guste"
   ]
  },
  {
   "cell_type": "code",
   "execution_count": null,
   "metadata": {
    "collapsed": true
   },
   "outputs": [],
   "source": []
  }
 ],
 "metadata": {
  "kernelspec": {
   "display_name": "Python 3",
   "language": "python",
   "name": "python3"
  },
  "language_info": {
   "codemirror_mode": {
    "name": "ipython",
    "version": 3
   },
   "file_extension": ".py",
   "mimetype": "text/x-python",
   "name": "python",
   "nbconvert_exporter": "python",
   "pygments_lexer": "ipython3",
   "version": "3.6.3"
  }
 },
 "nbformat": 4,
 "nbformat_minor": 2
}
