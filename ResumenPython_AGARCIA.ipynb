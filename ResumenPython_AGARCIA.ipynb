{
 "cells": [
  {
   "cell_type": "markdown",
   "metadata": {},
   "source": [
    "# Resumen"
   ]
  },
  {
   "cell_type": "markdown",
   "metadata": {},
   "source": [
    "### Lineas y sangria (tab)"
   ]
  },
  {
   "cell_type": "code",
   "execution_count": 1,
   "metadata": {},
   "outputs": [
    {
     "name": "stdout",
     "output_type": "stream",
     "text": [
      "Quien eres?\n",
      "Andres\n",
      "Hola  Andres. ¿Cual es la contrasena?\n",
      "clase2018\n",
      "Acceso Concedido\n"
     ]
    }
   ],
   "source": [
    "nombre= ''\n",
    "while True:\n",
    "    print ('Quien eres?')\n",
    "    nombre = input ()\n",
    "    if nombre != 'Andres':\n",
    "        continue\n",
    "    print (\"Hola  Andres. ¿Cual es la contrasena?\")\n",
    "    password = input()\n",
    "    if password == 'clase2018':\n",
    "        break\n",
    "print  ('Acceso Concedido')"
   ]
  },
  {
   "cell_type": "markdown",
   "metadata": {},
   "source": [
    "### Declaraciones en linea multiple"
   ]
  },
  {
   "cell_type": "code",
   "execution_count": 4,
   "metadata": {
    "collapsed": true
   },
   "outputs": [],
   "source": [
    "objeto_1 = 2\n",
    "objeto_2 = 4\n",
    "objeto_3 = 6"
   ]
  },
  {
   "cell_type": "code",
   "execution_count": 5,
   "metadata": {},
   "outputs": [
    {
     "name": "stdout",
     "output_type": "stream",
     "text": [
      "12\n"
     ]
    }
   ],
   "source": [
    "total = objeto_1 + \\\n",
    "        objeto_2 + \\\n",
    "        objeto_3\n",
    "print(total)"
   ]
  },
  {
   "cell_type": "code",
   "execution_count": 7,
   "metadata": {},
   "outputs": [
    {
     "name": "stdout",
     "output_type": "stream",
     "text": [
      "['uno', 'dos', 'Tres']\n"
     ]
    }
   ],
   "source": [
    "numbers = ['uno', 'dos', 'Tres']\n",
    "print(numbers)"
   ]
  },
  {
   "cell_type": "markdown",
   "metadata": {},
   "source": [
    "### Uso de comillas"
   ]
  },
  {
   "cell_type": "code",
   "execution_count": null,
   "metadata": {
    "collapsed": true
   },
   "outputs": [],
   "source": [
    "palabra = 'palabra'\n",
    "enunciado = \"enunciado\"\n",
    "parrafo = \"\"\"Esto es un parrafo. Y esta formado\n",
    "por varias lineas y enunciados.\"\"\""
   ]
  },
  {
   "cell_type": "code",
   "execution_count": null,
   "metadata": {
    "collapsed": true
   },
   "outputs": [],
   "source": [
    "print (palabra)\n",
    "print (enunciado)\n",
    "print (parrafo)"
   ]
  },
  {
   "cell_type": "markdown",
   "metadata": {},
   "source": [
    "### Grupos de multiples declaraciones como paquete"
   ]
  },
  {
   "cell_type": "code",
   "execution_count": 8,
   "metadata": {},
   "outputs": [
    {
     "name": "stdout",
     "output_type": "stream",
     "text": [
      "Quien eres?\n",
      "andres\n",
      "Quien eres?\n",
      "Andres\n",
      "Hola  Andres. ¿Cual es la contrasena?\n",
      "clase2018\n",
      "Acceso Concedido\n"
     ]
    }
   ],
   "source": [
    "nombre= ''\n",
    "while True:\n",
    "    print ('Quien eres?')\n",
    "    nombre = input ()\n",
    "    if nombre != 'Andres':\n",
    "        continue\n",
    "    print (\"Hola  Andres. ¿Cual es la contrasena?\")\n",
    "    password = input()\n",
    "    if password == 'clase2018':\n",
    "        break\n",
    "print  ('Acceso Concedido')"
   ]
  },
  {
   "cell_type": "markdown",
   "metadata": {},
   "source": [
    "# Ejercicios de Clase Enero 24"
   ]
  },
  {
   "cell_type": "markdown",
   "metadata": {},
   "source": [
    "> <font color=blue> **Ejercicio: Probar el funcionamiento de cada una de estas funciones creando tu propia lista y modificándola **"
   ]
  },
  {
   "cell_type": "markdown",
   "metadata": {},
   "source": [
    "> Operaciones más habituales con listas en Python\n",
    "\n",
    "> Las operaciones más habituales que se realizan en Python son las siguientes:\n",
    ">   - `lista[i]`: Devuelve el elemento que está en la posición i de la lista.\n",
    ">   - `lista.pop(i)`: Devuelve el elemento en la posición i de una lista y luego lo borra.\n",
    ">   - `lista.append(elemento)`: Añade elemento al final de la lista.\n",
    ">   - `lista.insert(i, elemento)`: Inserta elemento en la posición i.\n",
    ">   - `lista.extend(lista2)`: Fusiona lista con lista2.\n",
    ">   - `lista.remove(elemento)`: Elimina la primera vez que aparece elemento."
   ]
  },
  {
   "cell_type": "code",
   "execution_count": 15,
   "metadata": {
    "collapsed": true
   },
   "outputs": [],
   "source": [
    "listA = [2,4,6,8,10]"
   ]
  },
  {
   "cell_type": "code",
   "execution_count": 7,
   "metadata": {},
   "outputs": [
    {
     "data": {
      "text/plain": [
       "6"
      ]
     },
     "execution_count": 7,
     "metadata": {},
     "output_type": "execute_result"
    }
   ],
   "source": [
    "listA.pop(2) "
   ]
  },
  {
   "cell_type": "code",
   "execution_count": 8,
   "metadata": {},
   "outputs": [
    {
     "data": {
      "text/plain": [
       "[2, 4, 8, 10]"
      ]
     },
     "execution_count": 8,
     "metadata": {},
     "output_type": "execute_result"
    }
   ],
   "source": [
    "listA"
   ]
  },
  {
   "cell_type": "code",
   "execution_count": 16,
   "metadata": {},
   "outputs": [],
   "source": [
    "listA.append('andres')"
   ]
  },
  {
   "cell_type": "code",
   "execution_count": 17,
   "metadata": {},
   "outputs": [
    {
     "data": {
      "text/plain": [
       "[2, 4, 6, 8, 10, 'andres']"
      ]
     },
     "execution_count": 17,
     "metadata": {},
     "output_type": "execute_result"
    }
   ],
   "source": [
    "listA"
   ]
  },
  {
   "cell_type": "code",
   "execution_count": 18,
   "metadata": {
    "collapsed": true
   },
   "outputs": [],
   "source": [
    "listA.insert(0,'andres')"
   ]
  },
  {
   "cell_type": "code",
   "execution_count": 19,
   "metadata": {},
   "outputs": [
    {
     "data": {
      "text/plain": [
       "['andres', 2, 4, 6, 8, 10, 'andres']"
      ]
     },
     "execution_count": 19,
     "metadata": {},
     "output_type": "execute_result"
    }
   ],
   "source": [
    "listA"
   ]
  },
  {
   "cell_type": "code",
   "execution_count": 20,
   "metadata": {
    "collapsed": true
   },
   "outputs": [],
   "source": [
    "listA2 = [12,14]"
   ]
  },
  {
   "cell_type": "code",
   "execution_count": 21,
   "metadata": {
    "collapsed": true
   },
   "outputs": [],
   "source": [
    "listA.extend(listA2)"
   ]
  },
  {
   "cell_type": "code",
   "execution_count": 23,
   "metadata": {},
   "outputs": [
    {
     "data": {
      "text/plain": [
       "['andres', 2, 4, 6, 8, 10, 'andres', 12, 14]"
      ]
     },
     "execution_count": 23,
     "metadata": {},
     "output_type": "execute_result"
    }
   ],
   "source": [
    "listA"
   ]
  },
  {
   "cell_type": "code",
   "execution_count": 24,
   "metadata": {
    "collapsed": true
   },
   "outputs": [],
   "source": [
    "listA.remove('andres')"
   ]
  },
  {
   "cell_type": "code",
   "execution_count": 25,
   "metadata": {},
   "outputs": [
    {
     "data": {
      "text/plain": [
       "[2, 4, 6, 8, 10, 'andres', 12, 14]"
      ]
     },
     "execution_count": 25,
     "metadata": {},
     "output_type": "execute_result"
    }
   ],
   "source": [
    "listA"
   ]
  },
  {
   "cell_type": "markdown",
   "metadata": {},
   "source": [
    "> <font color=blue> **Ejercicio: Probar el funcionamiento de cada una de estas funciones creando tu propio diccionario y modificándolo **"
   ]
  },
  {
   "cell_type": "markdown",
   "metadata": {},
   "source": [
    "> ### Operaciones más habituales con diccionarios en Python\n",
    "> Es similar a las listas, con el matiz de que dado que los diccionarios no tienen orden, no tienen funciones en las que se tenga en cuenta la posición.\n",
    ">    - `diccionario.get(‘key’)`: Devuelve el valor que corresponde con la key introducida.\n",
    ">    - `diccionario.pop(‘key’)`: Devuelve el valor que corresponde con la key introducida, y luego borra la key y el valor.\n",
    ">    - `“key” in diccionario`: Devuelve verdadero (True) o falso (False) si la key (no los valores) existe en el diccionario.\n",
    ">    - `“definicion” in diccionario.values()`: Devuelve verdadero (True) o falso (False) si definición existe en el diccionario (no como key).\n",
    ">    - `diccionario.keys()`: Devuelve todas las palabras `keys` del diccionario. \n",
    ">    - `diccionario.values()`: Devuelve todos los `values` de todas las palabras `keys` del diccionario.\n",
    "\n",
    ">Poniendo todo esto en un ejemplo:"
   ]
  },
  {
   "cell_type": "code",
   "execution_count": 26,
   "metadata": {
    "collapsed": true
   },
   "outputs": [],
   "source": [
    "diccionarioA = {'capitan' : 'andres', 'marinero1' : 'pepe', 'marinero2':'arturo'}"
   ]
  },
  {
   "cell_type": "code",
   "execution_count": 28,
   "metadata": {},
   "outputs": [
    {
     "data": {
      "text/plain": [
       "{'capitan': 'andres', 'marinero1': 'pepe', 'marinero2': 'arturo'}"
      ]
     },
     "execution_count": 28,
     "metadata": {},
     "output_type": "execute_result"
    }
   ],
   "source": [
    "diccionarioA"
   ]
  },
  {
   "cell_type": "code",
   "execution_count": 30,
   "metadata": {},
   "outputs": [
    {
     "data": {
      "text/plain": [
       "'andres'"
      ]
     },
     "execution_count": 30,
     "metadata": {},
     "output_type": "execute_result"
    }
   ],
   "source": [
    "diccionarioA.get('capitan')"
   ]
  },
  {
   "cell_type": "code",
   "execution_count": 31,
   "metadata": {},
   "outputs": [
    {
     "data": {
      "text/plain": [
       "'arturo'"
      ]
     },
     "execution_count": 31,
     "metadata": {},
     "output_type": "execute_result"
    }
   ],
   "source": [
    "diccionarioA.pop('marinero2')"
   ]
  },
  {
   "cell_type": "code",
   "execution_count": 32,
   "metadata": {},
   "outputs": [
    {
     "data": {
      "text/plain": [
       "{'capitan': 'andres', 'marinero1': 'pepe'}"
      ]
     },
     "execution_count": 32,
     "metadata": {},
     "output_type": "execute_result"
    }
   ],
   "source": [
    "diccionarioA"
   ]
  },
  {
   "cell_type": "code",
   "execution_count": 35,
   "metadata": {},
   "outputs": [
    {
     "data": {
      "text/plain": [
       "True"
      ]
     },
     "execution_count": 35,
     "metadata": {},
     "output_type": "execute_result"
    }
   ],
   "source": [
    "'marinero1' in diccionarioA"
   ]
  },
  {
   "cell_type": "code",
   "execution_count": 36,
   "metadata": {},
   "outputs": [
    {
     "data": {
      "text/plain": [
       "True"
      ]
     },
     "execution_count": 36,
     "metadata": {},
     "output_type": "execute_result"
    }
   ],
   "source": [
    "'andres' in diccionarioA.values()"
   ]
  },
  {
   "cell_type": "code",
   "execution_count": 40,
   "metadata": {},
   "outputs": [
    {
     "data": {
      "text/plain": [
       "dict_keys(['capitan', 'marinero1'])"
      ]
     },
     "execution_count": 40,
     "metadata": {},
     "output_type": "execute_result"
    }
   ],
   "source": [
    "diccionarioA.keys()"
   ]
  },
  {
   "cell_type": "code",
   "execution_count": 41,
   "metadata": {},
   "outputs": [
    {
     "data": {
      "text/plain": [
       "dict_values(['andres', 'pepe'])"
      ]
     },
     "execution_count": 41,
     "metadata": {},
     "output_type": "execute_result"
    }
   ],
   "source": [
    "diccionarioA.values()"
   ]
  },
  {
   "cell_type": "code",
   "execution_count": null,
   "metadata": {
    "collapsed": true
   },
   "outputs": [],
   "source": []
  }
 ],
 "metadata": {
  "kernelspec": {
   "display_name": "Python 3",
   "language": "python",
   "name": "python3"
  },
  "language_info": {
   "codemirror_mode": {
    "name": "ipython",
    "version": 3
   },
   "file_extension": ".py",
   "mimetype": "text/x-python",
   "name": "python",
   "nbconvert_exporter": "python",
   "pygments_lexer": "ipython3",
   "version": "3.6.3"
  }
 },
 "nbformat": 4,
 "nbformat_minor": 2
}
